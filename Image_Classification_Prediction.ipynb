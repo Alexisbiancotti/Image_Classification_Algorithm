{
 "cells": [
  {
   "cell_type": "markdown",
   "metadata": {},
   "source": [
    "## Imports"
   ]
  },
  {
   "cell_type": "code",
   "execution_count": 1,
   "metadata": {},
   "outputs": [],
   "source": [
    "import numpy as np\n",
    "import matplotlib.pyplot as plt\n",
    "import struct\n",
    "import time\n",
    "\n",
    "# from sklearn import metrics\n",
    "\n",
    "import pandas as pd\n",
    "import seaborn as sns\n",
    "\n",
    "from sklearn.tree import DecisionTreeClassifier\n",
    "from sklearn.pipeline import Pipeline\n",
    "# from sklearn.preprocessing import StandardScaler\n",
    "# from sklearn.preprocessing import Binarizer, PowerTransformer, Normalizer\n",
    "# from sklearn.preprocessing import QuantileTransformer\n",
    "from sklearn.model_selection import KFold, GridSearchCV\n",
    "# from sklearn.mixture import GaussianMixture\n",
    "from sklearn.model_selection import train_test_split\n",
    "# from sklearn.linear_model import LogisticRegression\n",
    "# from xgboost import XGBRegressor\n",
    "# from sklearn.ensemble import RandomForestClassifier\n",
    "from sklearn import metrics\n",
    "\n",
    "import pickle"
   ]
  },
  {
   "cell_type": "markdown",
   "metadata": {},
   "source": [
    "## Functions"
   ]
  },
  {
   "cell_type": "code",
   "execution_count": null,
   "metadata": {},
   "outputs": [],
   "source": []
  },
  {
   "cell_type": "markdown",
   "metadata": {},
   "source": [
    "## Data"
   ]
  },
  {
   "cell_type": "code",
   "execution_count": 2,
   "metadata": {},
   "outputs": [],
   "source": [
    "#3x28x28 matrix of numbers images\n",
    "with open('t10k-images.idx3-ubyte','rb') as f:\n",
    "    magic, size  = struct.unpack(\">II\", f.read(8))\n",
    "    nrows, ncols = struct.unpack(\">II\", f.read(8))\n",
    "    images  = np.fromfile(f, dtype=np.dtype(np.uint8).newbyteorder('>'))\n",
    "    images  = images.reshape((size, nrows, ncols))\n",
    "    images  = images.reshape((10000,28*28))"
   ]
  },
  {
   "cell_type": "code",
   "execution_count": 3,
   "metadata": {},
   "outputs": [
    {
     "data": {
      "text/plain": [
       "(10000, 784)"
      ]
     },
     "execution_count": 3,
     "metadata": {},
     "output_type": "execute_result"
    }
   ],
   "source": [
    "images.shape"
   ]
  },
  {
   "cell_type": "markdown",
   "metadata": {},
   "source": [
    "## Model Loading"
   ]
  },
  {
   "cell_type": "code",
   "execution_count": 4,
   "metadata": {},
   "outputs": [],
   "source": [
    "# loading the trained models\n",
    "xgrb_model = pickle.load(open('XGRB.sav', 'rb'))"
   ]
  },
  {
   "cell_type": "markdown",
   "metadata": {},
   "source": [
    "## Model Prediction"
   ]
  },
  {
   "cell_type": "code",
   "execution_count": 5,
   "metadata": {},
   "outputs": [],
   "source": [
    "# using the XG Boost model to predict the images\n",
    "pred_xgrb  = xgrb_model.predict_proba(images)"
   ]
  },
  {
   "cell_type": "code",
   "execution_count": 10,
   "metadata": {},
   "outputs": [],
   "source": [
    "# making a dataframe to store it later \n",
    "pred_dataframe = pd.DataFrame(pred_xgrb)"
   ]
  },
  {
   "cell_type": "code",
   "execution_count": 12,
   "metadata": {},
   "outputs": [
    {
     "data": {
      "text/html": [
       "<div>\n",
       "<style scoped>\n",
       "    .dataframe tbody tr th:only-of-type {\n",
       "        vertical-align: middle;\n",
       "    }\n",
       "\n",
       "    .dataframe tbody tr th {\n",
       "        vertical-align: top;\n",
       "    }\n",
       "\n",
       "    .dataframe thead th {\n",
       "        text-align: right;\n",
       "    }\n",
       "</style>\n",
       "<table border=\"1\" class=\"dataframe\">\n",
       "  <thead>\n",
       "    <tr style=\"text-align: right;\">\n",
       "      <th></th>\n",
       "      <th>0</th>\n",
       "      <th>1</th>\n",
       "      <th>2</th>\n",
       "      <th>3</th>\n",
       "      <th>4</th>\n",
       "      <th>5</th>\n",
       "      <th>6</th>\n",
       "      <th>7</th>\n",
       "      <th>8</th>\n",
       "      <th>9</th>\n",
       "    </tr>\n",
       "  </thead>\n",
       "  <tbody>\n",
       "    <tr>\n",
       "      <th>0</th>\n",
       "      <td>0.000046</td>\n",
       "      <td>0.000027</td>\n",
       "      <td>0.000057</td>\n",
       "      <td>0.000128</td>\n",
       "      <td>0.000047</td>\n",
       "      <td>0.000043</td>\n",
       "      <td>0.000023</td>\n",
       "      <td>0.999489</td>\n",
       "      <td>0.000035</td>\n",
       "      <td>0.000103</td>\n",
       "    </tr>\n",
       "    <tr>\n",
       "      <th>1</th>\n",
       "      <td>0.000329</td>\n",
       "      <td>0.000248</td>\n",
       "      <td>0.998427</td>\n",
       "      <td>0.000208</td>\n",
       "      <td>0.000025</td>\n",
       "      <td>0.000152</td>\n",
       "      <td>0.000422</td>\n",
       "      <td>0.000023</td>\n",
       "      <td>0.000103</td>\n",
       "      <td>0.000062</td>\n",
       "    </tr>\n",
       "    <tr>\n",
       "      <th>2</th>\n",
       "      <td>0.000030</td>\n",
       "      <td>0.999540</td>\n",
       "      <td>0.000082</td>\n",
       "      <td>0.000077</td>\n",
       "      <td>0.000049</td>\n",
       "      <td>0.000033</td>\n",
       "      <td>0.000059</td>\n",
       "      <td>0.000036</td>\n",
       "      <td>0.000048</td>\n",
       "      <td>0.000044</td>\n",
       "    </tr>\n",
       "    <tr>\n",
       "      <th>3</th>\n",
       "      <td>0.999356</td>\n",
       "      <td>0.000023</td>\n",
       "      <td>0.000191</td>\n",
       "      <td>0.000041</td>\n",
       "      <td>0.000033</td>\n",
       "      <td>0.000139</td>\n",
       "      <td>0.000078</td>\n",
       "      <td>0.000029</td>\n",
       "      <td>0.000035</td>\n",
       "      <td>0.000075</td>\n",
       "    </tr>\n",
       "    <tr>\n",
       "      <th>4</th>\n",
       "      <td>0.000193</td>\n",
       "      <td>0.000095</td>\n",
       "      <td>0.000295</td>\n",
       "      <td>0.000155</td>\n",
       "      <td>0.997067</td>\n",
       "      <td>0.000167</td>\n",
       "      <td>0.000173</td>\n",
       "      <td>0.000319</td>\n",
       "      <td>0.000475</td>\n",
       "      <td>0.001060</td>\n",
       "    </tr>\n",
       "  </tbody>\n",
       "</table>\n",
       "</div>"
      ],
      "text/plain": [
       "          0         1         2         3         4         5         6  \\\n",
       "0  0.000046  0.000027  0.000057  0.000128  0.000047  0.000043  0.000023   \n",
       "1  0.000329  0.000248  0.998427  0.000208  0.000025  0.000152  0.000422   \n",
       "2  0.000030  0.999540  0.000082  0.000077  0.000049  0.000033  0.000059   \n",
       "3  0.999356  0.000023  0.000191  0.000041  0.000033  0.000139  0.000078   \n",
       "4  0.000193  0.000095  0.000295  0.000155  0.997067  0.000167  0.000173   \n",
       "\n",
       "          7         8         9  \n",
       "0  0.999489  0.000035  0.000103  \n",
       "1  0.000023  0.000103  0.000062  \n",
       "2  0.000036  0.000048  0.000044  \n",
       "3  0.000029  0.000035  0.000075  \n",
       "4  0.000319  0.000475  0.001060  "
      ]
     },
     "execution_count": 12,
     "metadata": {},
     "output_type": "execute_result"
    }
   ],
   "source": [
    "pred_dataframe.head()"
   ]
  },
  {
   "cell_type": "code",
   "execution_count": 13,
   "metadata": {},
   "outputs": [],
   "source": [
    "# storing the prediction results into a csv \n",
    "pred_dataframe.to_csv(r'prediction.csv', index = False)"
   ]
  }
 ],
 "metadata": {
  "kernelspec": {
   "display_name": "Python 3",
   "language": "python",
   "name": "python3"
  },
  "language_info": {
   "codemirror_mode": {
    "name": "ipython",
    "version": 3
   },
   "file_extension": ".py",
   "mimetype": "text/x-python",
   "name": "python",
   "nbconvert_exporter": "python",
   "pygments_lexer": "ipython3",
   "version": "3.7.6"
  }
 },
 "nbformat": 4,
 "nbformat_minor": 4
}
